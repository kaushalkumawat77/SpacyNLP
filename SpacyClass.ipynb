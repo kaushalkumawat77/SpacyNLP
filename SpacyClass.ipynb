{
  "cells": [
    {
      "cell_type": "markdown",
      "metadata": {
        "id": "view-in-github",
        "colab_type": "text"
      },
      "source": [
        "<a href=\"https://colab.research.google.com/github/kaushalkumawat77/SpacyNLP/blob/main/SpacyClass.ipynb\" target=\"_parent\"><img src=\"https://colab.research.google.com/assets/colab-badge.svg\" alt=\"Open In Colab\"/></a>"
      ]
    },
    {
      "cell_type": "code",
      "execution_count": null,
      "metadata": {
        "colab": {
          "base_uri": "https://localhost:8080/"
        },
        "id": "99G3pkQCdht2",
        "outputId": "31424d14-2b07-4574-f7ac-e6764e8bd7e1"
      },
      "outputs": [
        {
          "output_type": "stream",
          "name": "stdout",
          "text": [
            "Apple PROPN\n",
            "is AUX\n",
            "in ADP\n",
            "california PROPN\n"
          ]
        }
      ],
      "source": [
        "import spacy\n",
        "nlp=spacy.load('en_core_web_sm')\n",
        "doc=nlp(\"Apple is in california\")\n",
        "for token in doc:\n",
        "    print(token.text,token.pos_)"
      ]
    },
    {
      "cell_type": "code",
      "execution_count": null,
      "metadata": {
        "colab": {
          "base_uri": "https://localhost:8080/"
        },
        "id": "DEA-wKFZhmaS",
        "outputId": "af58681e-9247-46c1-bc6a-dd45233c5f1d"
      },
      "outputs": [
        {
          "output_type": "stream",
          "name": "stdout",
          "text": [
            " \n",
            "Samsung\n",
            "is\n",
            "made\n",
            "in\n",
            "india\n",
            "\n",
            "\n",
            "Filtered tokens\n",
            " \n",
            "Samsung\n",
            "india\n",
            "\n",
            "\n",
            "NER\n",
            "Samsung ORG\n",
            "\n",
            "\n",
            "india GPE\n",
            "\n",
            "\n",
            "\n",
            "\n",
            "Lemmatization\n",
            "[' ', 'Samsung', 'be', 'make', 'in', 'india']\n"
          ]
        }
      ],
      "source": [
        "text=\" Samsung is made in india\"\n",
        "doc=nlp(text)\n",
        "for token in doc:\n",
        "  print(token.text)\n",
        "\n",
        "print(\"\\n\")\n",
        "print(\"Filtered tokens\")\n",
        "filtered_tokens=[token for token in doc if not token.is_stop]\n",
        "for token in filtered_tokens:\n",
        "  print(token.text)\n",
        "\n",
        "print(\"\\n\")\n",
        "print(\"NER\")\n",
        "for ent in doc.ents:\n",
        "  print(ent.text,ent.label_)\n",
        "  print(\"\\n\")\n",
        "\n",
        "print(\"\\n\")\n",
        "print(\"Lemmatization\")\n",
        "lemmatized_tokens=[token.lemma_ for token in doc if not token.is_punct]\n",
        "print(lemmatized_tokens)\n",
        "\n",
        "\n",
        "\n"
      ]
    },
    {
      "cell_type": "code",
      "source": [
        "file_path='/sentiment_examples.txt'\n",
        "with open(file_path, 'r',encoding='utf-8') as file:\n",
        "  sentiment_texts=file.readlines()"
      ],
      "metadata": {
        "id": "KWHfdoP9p6qn"
      },
      "execution_count": null,
      "outputs": []
    },
    {
      "cell_type": "code",
      "source": [
        "import pandas as pd\n",
        "token_lists=[]\n",
        "filter_token_lists=[]\n",
        "pos_tag_lists=[]\n",
        "ner_lists=[]\n",
        "\n",
        "for sentiment_text in sentiment_texts:\n",
        "  doc=nlp(sentiment_text.strip())  #strip method is used to cleanup the sentiment text\n",
        "\n",
        "#Tokenization\n",
        "tokens=[token.text for token in doc if not token.is_stop]\n",
        "token_lists.append(tokens)\n",
        "\n",
        "filtered_tokens=[token.text for token in doc if not token.is_stop]\n",
        "filter_token_lists.append(filtered_tokens)\n",
        "\n",
        "pos_tags=[(token.text,token.pos_)for token in doc]\n",
        "pos_tag_lists.append(pos_tags)\n",
        "\n",
        "\n",
        "ner_entities=[(ent.text,ent.label_) for ent in doc.ents]\n",
        "ner_lists.append(ner_entities)\n",
        "\n",
        "result_df=pd.DataFrame({\n",
        "    'Sentiment Example': sentiment_text,\n",
        "    'Tokens':token_lists,\n",
        "    'Filtered Tokens':filter_token_lists,\n",
        "    'POS Tags': pos_tag_lists,\n",
        "    'NER Entities':ner_lists,\n",
        "})\n",
        "\n",
        "print(result_df)\n",
        "\n",
        "\n"
      ],
      "metadata": {
        "id": "IjlqHItGqZWm",
        "colab": {
          "base_uri": "https://localhost:8080/"
        },
        "outputId": "c389498f-3382-4efd-e979-ba3a6382c6a4"
      },
      "execution_count": null,
      "outputs": [
        {
          "output_type": "stream",
          "name": "stdout",
          "text": [
            "                                   Sentiment Example  \\\n",
            "0  \"The delivery was prompt, and the packaging wa...   \n",
            "\n",
            "                                              Tokens  \\\n",
            "0  [\", delivery, prompt, ,, packaging, secure, .,...   \n",
            "\n",
            "                                     Filtered Tokens  \\\n",
            "0  [\", delivery, prompt, ,, packaging, secure, .,...   \n",
            "\n",
            "                                            POS Tags NER Entities  \n",
            "0  [(\", PUNCT), (The, DET), (delivery, NOUN), (wa...           []  \n"
          ]
        }
      ]
    },
    {
      "cell_type": "code",
      "source": [
        "result_df.to_csv('processed_data.csv')\n",
        "processed_df=pd.read_csv('/content/processed_data.csv',encoding='latin-1')"
      ],
      "metadata": {
        "id": "wBecQBEAt4uo"
      },
      "execution_count": null,
      "outputs": []
    },
    {
      "cell_type": "code",
      "source": [
        "processed_df.head(25)"
      ],
      "metadata": {
        "colab": {
          "base_uri": "https://localhost:8080/",
          "height": 260
        },
        "id": "xJyNxkw6u-Ha",
        "outputId": "7f33e315-448a-4cbb-9b9c-f5886fa20072"
      },
      "execution_count": null,
      "outputs": [
        {
          "output_type": "execute_result",
          "data": {
            "text/plain": [
              "   Unnamed: 0                                  Sentiment Example  \\\n",
              "0           0  \"The delivery was prompt, and the packaging wa...   \n",
              "\n",
              "                                              Tokens  \\\n",
              "0  ['\"', 'delivery', 'prompt', ',', 'packaging', ...   \n",
              "\n",
              "                                     Filtered Tokens  \\\n",
              "0  ['\"', 'delivery', 'prompt', ',', 'packaging', ...   \n",
              "\n",
              "                                            POS Tags NER Entities  \n",
              "0  [('\"', 'PUNCT'), ('The', 'DET'), ('delivery', ...           []  "
            ],
            "text/html": [
              "\n",
              "  <div id=\"df-39df7da8-aac2-422c-9819-66be020802bb\" class=\"colab-df-container\">\n",
              "    <div>\n",
              "<style scoped>\n",
              "    .dataframe tbody tr th:only-of-type {\n",
              "        vertical-align: middle;\n",
              "    }\n",
              "\n",
              "    .dataframe tbody tr th {\n",
              "        vertical-align: top;\n",
              "    }\n",
              "\n",
              "    .dataframe thead th {\n",
              "        text-align: right;\n",
              "    }\n",
              "</style>\n",
              "<table border=\"1\" class=\"dataframe\">\n",
              "  <thead>\n",
              "    <tr style=\"text-align: right;\">\n",
              "      <th></th>\n",
              "      <th>Unnamed: 0</th>\n",
              "      <th>Sentiment Example</th>\n",
              "      <th>Tokens</th>\n",
              "      <th>Filtered Tokens</th>\n",
              "      <th>POS Tags</th>\n",
              "      <th>NER Entities</th>\n",
              "    </tr>\n",
              "  </thead>\n",
              "  <tbody>\n",
              "    <tr>\n",
              "      <th>0</th>\n",
              "      <td>0</td>\n",
              "      <td>\"The delivery was prompt, and the packaging wa...</td>\n",
              "      <td>['\"', 'delivery', 'prompt', ',', 'packaging', ...</td>\n",
              "      <td>['\"', 'delivery', 'prompt', ',', 'packaging', ...</td>\n",
              "      <td>[('\"', 'PUNCT'), ('The', 'DET'), ('delivery', ...</td>\n",
              "      <td>[]</td>\n",
              "    </tr>\n",
              "  </tbody>\n",
              "</table>\n",
              "</div>\n",
              "    <div class=\"colab-df-buttons\">\n",
              "\n",
              "  <div class=\"colab-df-container\">\n",
              "    <button class=\"colab-df-convert\" onclick=\"convertToInteractive('df-39df7da8-aac2-422c-9819-66be020802bb')\"\n",
              "            title=\"Convert this dataframe to an interactive table.\"\n",
              "            style=\"display:none;\">\n",
              "\n",
              "  <svg xmlns=\"http://www.w3.org/2000/svg\" height=\"24px\" viewBox=\"0 -960 960 960\">\n",
              "    <path d=\"M120-120v-720h720v720H120Zm60-500h600v-160H180v160Zm220 220h160v-160H400v160Zm0 220h160v-160H400v160ZM180-400h160v-160H180v160Zm440 0h160v-160H620v160ZM180-180h160v-160H180v160Zm440 0h160v-160H620v160Z\"/>\n",
              "  </svg>\n",
              "    </button>\n",
              "\n",
              "  <style>\n",
              "    .colab-df-container {\n",
              "      display:flex;\n",
              "      gap: 12px;\n",
              "    }\n",
              "\n",
              "    .colab-df-convert {\n",
              "      background-color: #E8F0FE;\n",
              "      border: none;\n",
              "      border-radius: 50%;\n",
              "      cursor: pointer;\n",
              "      display: none;\n",
              "      fill: #1967D2;\n",
              "      height: 32px;\n",
              "      padding: 0 0 0 0;\n",
              "      width: 32px;\n",
              "    }\n",
              "\n",
              "    .colab-df-convert:hover {\n",
              "      background-color: #E2EBFA;\n",
              "      box-shadow: 0px 1px 2px rgba(60, 64, 67, 0.3), 0px 1px 3px 1px rgba(60, 64, 67, 0.15);\n",
              "      fill: #174EA6;\n",
              "    }\n",
              "\n",
              "    .colab-df-buttons div {\n",
              "      margin-bottom: 4px;\n",
              "    }\n",
              "\n",
              "    [theme=dark] .colab-df-convert {\n",
              "      background-color: #3B4455;\n",
              "      fill: #D2E3FC;\n",
              "    }\n",
              "\n",
              "    [theme=dark] .colab-df-convert:hover {\n",
              "      background-color: #434B5C;\n",
              "      box-shadow: 0px 1px 3px 1px rgba(0, 0, 0, 0.15);\n",
              "      filter: drop-shadow(0px 1px 2px rgba(0, 0, 0, 0.3));\n",
              "      fill: #FFFFFF;\n",
              "    }\n",
              "  </style>\n",
              "\n",
              "    <script>\n",
              "      const buttonEl =\n",
              "        document.querySelector('#df-39df7da8-aac2-422c-9819-66be020802bb button.colab-df-convert');\n",
              "      buttonEl.style.display =\n",
              "        google.colab.kernel.accessAllowed ? 'block' : 'none';\n",
              "\n",
              "      async function convertToInteractive(key) {\n",
              "        const element = document.querySelector('#df-39df7da8-aac2-422c-9819-66be020802bb');\n",
              "        const dataTable =\n",
              "          await google.colab.kernel.invokeFunction('convertToInteractive',\n",
              "                                                    [key], {});\n",
              "        if (!dataTable) return;\n",
              "\n",
              "        const docLinkHtml = 'Like what you see? Visit the ' +\n",
              "          '<a target=\"_blank\" href=https://colab.research.google.com/notebooks/data_table.ipynb>data table notebook</a>'\n",
              "          + ' to learn more about interactive tables.';\n",
              "        element.innerHTML = '';\n",
              "        dataTable['output_type'] = 'display_data';\n",
              "        await google.colab.output.renderOutput(dataTable, element);\n",
              "        const docLink = document.createElement('div');\n",
              "        docLink.innerHTML = docLinkHtml;\n",
              "        element.appendChild(docLink);\n",
              "      }\n",
              "    </script>\n",
              "  </div>\n",
              "\n",
              "\n",
              "    </div>\n",
              "  </div>\n"
            ],
            "application/vnd.google.colaboratory.intrinsic+json": {
              "type": "dataframe",
              "variable_name": "processed_df",
              "summary": "{\n  \"name\": \"processed_df\",\n  \"rows\": 1,\n  \"fields\": [\n    {\n      \"column\": \"Unnamed: 0\",\n      \"properties\": {\n        \"dtype\": \"number\",\n        \"std\": null,\n        \"min\": 0,\n        \"max\": 0,\n        \"num_unique_values\": 1,\n        \"samples\": [\n          0\n        ],\n        \"semantic_type\": \"\",\n        \"description\": \"\"\n      }\n    },\n    {\n      \"column\": \"Sentiment Example\",\n      \"properties\": {\n        \"dtype\": \"string\",\n        \"num_unique_values\": 1,\n        \"samples\": [\n          \"\\\"The delivery was prompt, and the packaging was secure. Everything arrived in perfect condition.\\\"\"\n        ],\n        \"semantic_type\": \"\",\n        \"description\": \"\"\n      }\n    },\n    {\n      \"column\": \"Tokens\",\n      \"properties\": {\n        \"dtype\": \"string\",\n        \"num_unique_values\": 1,\n        \"samples\": [\n          \"['\\\"', 'delivery', 'prompt', ',', 'packaging', 'secure', '.', 'arrived', 'perfect', 'condition', '.', '\\\"']\"\n        ],\n        \"semantic_type\": \"\",\n        \"description\": \"\"\n      }\n    },\n    {\n      \"column\": \"Filtered Tokens\",\n      \"properties\": {\n        \"dtype\": \"string\",\n        \"num_unique_values\": 1,\n        \"samples\": [\n          \"['\\\"', 'delivery', 'prompt', ',', 'packaging', 'secure', '.', 'arrived', 'perfect', 'condition', '.', '\\\"']\"\n        ],\n        \"semantic_type\": \"\",\n        \"description\": \"\"\n      }\n    },\n    {\n      \"column\": \"POS Tags\",\n      \"properties\": {\n        \"dtype\": \"string\",\n        \"num_unique_values\": 1,\n        \"samples\": [\n          \"[('\\\"', 'PUNCT'), ('The', 'DET'), ('delivery', 'NOUN'), ('was', 'AUX'), ('prompt', 'ADJ'), (',', 'PUNCT'), ('and', 'CCONJ'), ('the', 'DET'), ('packaging', 'NOUN'), ('was', 'AUX'), ('secure', 'ADJ'), ('.', 'PUNCT'), ('Everything', 'PRON'), ('arrived', 'VERB'), ('in', 'ADP'), ('perfect', 'ADJ'), ('condition', 'NOUN'), ('.', 'PUNCT'), ('\\\"', 'PUNCT')]\"\n        ],\n        \"semantic_type\": \"\",\n        \"description\": \"\"\n      }\n    },\n    {\n      \"column\": \"NER Entities\",\n      \"properties\": {\n        \"dtype\": \"string\",\n        \"num_unique_values\": 1,\n        \"samples\": [\n          \"[]\"\n        ],\n        \"semantic_type\": \"\",\n        \"description\": \"\"\n      }\n    }\n  ]\n}"
            }
          },
          "metadata": {},
          "execution_count": 34
        }
      ]
    },
    {
      "cell_type": "code",
      "source": [],
      "metadata": {
        "id": "O8eAOmxwwVup"
      },
      "execution_count": null,
      "outputs": []
    }
  ],
  "metadata": {
    "colab": {
      "provenance": [],
      "authorship_tag": "ABX9TyMp4fFjPpYLBjHuW7nICGe+",
      "include_colab_link": true
    },
    "kernelspec": {
      "display_name": "Python 3",
      "name": "python3"
    },
    "language_info": {
      "name": "python"
    }
  },
  "nbformat": 4,
  "nbformat_minor": 0
}